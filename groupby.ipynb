{
 "cells": [
  {
   "cell_type": "code",
   "execution_count": 1,
   "metadata": {},
   "outputs": [],
   "source": [
    "from pyspark.sql import SparkSession"
   ]
  },
  {
   "cell_type": "code",
   "execution_count": 2,
   "metadata": {},
   "outputs": [],
   "source": [
    "spark=SparkSession.builder.appName('Agg').getOrCreate()"
   ]
  },
  {
   "cell_type": "code",
   "execution_count": 3,
   "metadata": {},
   "outputs": [
    {
     "data": {
      "text/html": [
       "\n",
       "            <div>\n",
       "                <p><b>SparkSession - in-memory</b></p>\n",
       "                \n",
       "        <div>\n",
       "            <p><b>SparkContext</b></p>\n",
       "\n",
       "            <p><a href=\"http://SAMANTA-140197S:4043\">Spark UI</a></p>\n",
       "\n",
       "            <dl>\n",
       "              <dt>Version</dt>\n",
       "                <dd><code>v3.5.4</code></dd>\n",
       "              <dt>Master</dt>\n",
       "                <dd><code>local[*]</code></dd>\n",
       "              <dt>AppName</dt>\n",
       "                <dd><code>Agg</code></dd>\n",
       "            </dl>\n",
       "        </div>\n",
       "        \n",
       "            </div>\n",
       "        "
      ],
      "text/plain": [
       "<pyspark.sql.session.SparkSession at 0x21ec3c6c650>"
      ]
     },
     "execution_count": 3,
     "metadata": {},
     "output_type": "execute_result"
    }
   ],
   "source": [
    "spark"
   ]
  },
  {
   "cell_type": "code",
   "execution_count": 38,
   "metadata": {},
   "outputs": [],
   "source": [
    "\n",
    "df_pyspark=spark.read.csv('sample3.csv',header=True,inferSchema=True)"
   ]
  },
  {
   "cell_type": "code",
   "execution_count": 39,
   "metadata": {},
   "outputs": [
    {
     "name": "stdout",
     "output_type": "stream",
     "text": [
      "+------+---+----------+------+----------------+\n",
      "|  Name|age|Experience|Salary|     Departments|\n",
      "+------+---+----------+------+----------------+\n",
      "|sourav| 31|        10| 30000|    Data Science|\n",
      "| sunil| 30|         8| 25000|             IOt|\n",
      "| soyel| 29|         4| 20000|Machine learning|\n",
      "|souvik| 24|         3| 20000|        Big data|\n",
      "|apurba| 21|         1| 15000|Machine learning|\n",
      "|    pk| 23|         2| 18000|    Data Science|\n",
      "|sourav| 31|        10| 80000|          Devops|\n",
      "| soyel| 29|         4| 60000|Machine learning|\n",
      "|apurba| 21|         1| 35000|          Devops|\n",
      "+------+---+----------+------+----------------+\n",
      "\n"
     ]
    }
   ],
   "source": [
    "df_pyspark.show()"
   ]
  },
  {
   "cell_type": "code",
   "execution_count": 40,
   "metadata": {},
   "outputs": [
    {
     "name": "stdout",
     "output_type": "stream",
     "text": [
      "root\n",
      " |-- Name: string (nullable = true)\n",
      " |-- age: integer (nullable = true)\n",
      " |-- Experience: integer (nullable = true)\n",
      " |-- Salary: integer (nullable = true)\n",
      " |-- Departments: string (nullable = true)\n",
      "\n"
     ]
    }
   ],
   "source": [
    "df_pyspark.printSchema()"
   ]
  },
  {
   "cell_type": "markdown",
   "metadata": {},
   "source": [
    "totol salary of each"
   ]
  },
  {
   "cell_type": "code",
   "execution_count": 41,
   "metadata": {},
   "outputs": [
    {
     "name": "stdout",
     "output_type": "stream",
     "text": [
      "+------+--------+---------------+-----------+\n",
      "|  Name|sum(age)|sum(Experience)|sum(Salary)|\n",
      "+------+--------+---------------+-----------+\n",
      "|apurba|      42|              2|      50000|\n",
      "| soyel|      58|              8|      80000|\n",
      "| sunil|      30|              8|      25000|\n",
      "|    pk|      23|              2|      18000|\n",
      "|sourav|      62|             20|     110000|\n",
      "|souvik|      24|              3|      20000|\n",
      "+------+--------+---------------+-----------+\n",
      "\n"
     ]
    }
   ],
   "source": [
    "## Groupby\n",
    "### Grouped to find the maximum (sum)salary\n",
    "df_pyspark.groupBy('Name').sum().show()"
   ]
  },
  {
   "cell_type": "markdown",
   "metadata": {},
   "source": [
    "average_salary of each"
   ]
  },
  {
   "cell_type": "code",
   "execution_count": 42,
   "metadata": {},
   "outputs": [
    {
     "name": "stdout",
     "output_type": "stream",
     "text": [
      "+------+--------+---------------+-----------+\n",
      "|  Name|avg(age)|avg(Experience)|avg(Salary)|\n",
      "+------+--------+---------------+-----------+\n",
      "|apurba|    21.0|            1.0|    25000.0|\n",
      "| soyel|    29.0|            4.0|    40000.0|\n",
      "| sunil|    30.0|            8.0|    25000.0|\n",
      "|    pk|    23.0|            2.0|    18000.0|\n",
      "|sourav|    31.0|           10.0|    55000.0|\n",
      "|souvik|    24.0|            3.0|    20000.0|\n",
      "+------+--------+---------------+-----------+\n",
      "\n"
     ]
    }
   ],
   "source": [
    "df_pyspark.groupBy('Name').avg().show()"
   ]
  },
  {
   "cell_type": "code",
   "execution_count": 43,
   "metadata": {},
   "outputs": [
    {
     "name": "stdout",
     "output_type": "stream",
     "text": [
      "+----------------+--------+---------------+-----------+\n",
      "|     Departments|sum(age)|sum(Experience)|sum(Salary)|\n",
      "+----------------+--------+---------------+-----------+\n",
      "|             IOt|      30|              8|      25000|\n",
      "|          Devops|      52|             11|     115000|\n",
      "|Machine learning|      79|              9|      95000|\n",
      "|    Data Science|      54|             12|      48000|\n",
      "|        Big data|      24|              3|      20000|\n",
      "+----------------+--------+---------------+-----------+\n",
      "\n"
     ]
    }
   ],
   "source": [
    "### Groupby Departmernts  which gives maximum salary\n",
    "df_pyspark.groupBy('Departments').sum().show()"
   ]
  },
  {
   "cell_type": "code",
   "execution_count": 44,
   "metadata": {},
   "outputs": [
    {
     "name": "stdout",
     "output_type": "stream",
     "text": [
      "+----------------+------------------+---------------+------------------+\n",
      "|     Departments|          avg(age)|avg(Experience)|       avg(Salary)|\n",
      "+----------------+------------------+---------------+------------------+\n",
      "|             IOt|              30.0|            8.0|           25000.0|\n",
      "|          Devops|              26.0|            5.5|           57500.0|\n",
      "|Machine learning|26.333333333333332|            3.0|31666.666666666668|\n",
      "|    Data Science|              27.0|            6.0|           24000.0|\n",
      "|        Big data|              24.0|            3.0|           20000.0|\n",
      "+----------------+------------------+---------------+------------------+\n",
      "\n"
     ]
    }
   ],
   "source": [
    "df_pyspark.groupBy('Departments').mean().show()"
   ]
  },
  {
   "cell_type": "code",
   "execution_count": 45,
   "metadata": {},
   "outputs": [
    {
     "name": "stdout",
     "output_type": "stream",
     "text": [
      "+----------------+-----+\n",
      "|     Departments|count|\n",
      "+----------------+-----+\n",
      "|             IOt|    1|\n",
      "|          Devops|    2|\n",
      "|Machine learning|    3|\n",
      "|    Data Science|    2|\n",
      "|        Big data|    1|\n",
      "+----------------+-----+\n",
      "\n"
     ]
    }
   ],
   "source": [
    "df_pyspark.groupBy('Departments').count().show()"
   ]
  },
  {
   "cell_type": "code",
   "execution_count": 46,
   "metadata": {},
   "outputs": [
    {
     "name": "stdout",
     "output_type": "stream",
     "text": [
      "+-----------+\n",
      "|sum(Salary)|\n",
      "+-----------+\n",
      "|     303000|\n",
      "+-----------+\n",
      "\n"
     ]
    }
   ],
   "source": [
    "\n",
    "df_pyspark.agg({'Salary':'sum'}).show()"
   ]
  },
  {
   "cell_type": "code",
   "execution_count": null,
   "metadata": {},
   "outputs": [],
   "source": []
  }
 ],
 "metadata": {
  "kernelspec": {
   "display_name": "Python 3",
   "language": "python",
   "name": "python3"
  },
  "language_info": {
   "codemirror_mode": {
    "name": "ipython",
    "version": 3
   },
   "file_extension": ".py",
   "mimetype": "text/x-python",
   "name": "python",
   "nbconvert_exporter": "python",
   "pygments_lexer": "ipython3",
   "version": "3.11.0"
  }
 },
 "nbformat": 4,
 "nbformat_minor": 2
}
